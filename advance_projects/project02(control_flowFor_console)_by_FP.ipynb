{
  "cells": [
    {
      "cell_type": "markdown",
      "metadata": {
        "id": "view-in-github",
        "colab_type": "text"
      },
      "source": [
        "<a href=\"https://colab.research.google.com/github/rehan363/python_projects/blob/main/project02(control_flowFor_console)_by_FP.ipynb\" target=\"_parent\"><img src=\"https://colab.research.google.com/assets/colab-badge.svg\" alt=\"Open In Colab\"/></a>"
      ]
    },
    {
      "cell_type": "markdown",
      "metadata": {
        "id": "0LqWN2rxsqhy"
      },
      "source": [
        "***`[High - Low game]`***"
      ]
    },
    {
      "cell_type": "markdown",
      "metadata": {
        "id": "svJLnUl3vVEe"
      },
      "source": [
        "**This project is done by functional pograming language.**"
      ]
    },
    {
      "cell_type": "markdown",
      "metadata": {
        "id": "JACicLaMslq7"
      },
      "source": [
        " you develop a game! The game is called High-Low and the way it's played goes as follows:\n",
        "\n",
        "Two numbers are generated from 1 to 100 (inclusive on both ends): one for you and one for a computer, who will be your opponent. You can see your number, but not the computer's!\n",
        "\n",
        "You make a guess, saying your number is either higher than or lower than the computer's number\n",
        "\n",
        "If your guess matches the truth (ex. you guess your number is higher, and then your number is actually higher than the computer's), you get a point!\n",
        "\n",
        "These steps make up one round of the game. The game is over after all rounds have been played.\n",
        "\n",
        "We've provided a sample run below."
      ]
    },
    {
      "cell_type": "code",
      "execution_count": null,
      "metadata": {
        "id": "znfQCOr_tIGS"
      },
      "outputs": [],
      "source": [
        "# Welcome to the High-Low Game!\n",
        "# --------------------------------\n",
        "# Round 1\n",
        "# Your number is 8\n",
        "# Do you think your number is higher or lower than the computer's?: lower\n",
        "# You were right! The computer's number was 35\n",
        "# Your score is now 1\n",
        "\n",
        "# Round 2\n",
        "# Your number is 88\n",
        "# Do you think your number is higher or lower than the computer's?: higher\n",
        "# Aww, that's incorrect. The computer's number was 100\n",
        "# Your score is now 1\n",
        "\n",
        "# Round 3\n",
        "# Your number is 63\n",
        "# Do you think your number is higher or lower than the computer's?: higher\n",
        "# You were right! The computer's number was 5\n",
        "# Your score is now 2\n",
        "\n",
        "# Round 4\n",
        "# Your number is 57\n",
        "# Do you think your number is higher or lower than the computer's?: lower\n",
        "# Aww, that's incorrect. The computer's number was 57\n",
        "# Your score is now 2\n",
        "\n",
        "# Round 5\n",
        "# Your number is 22\n",
        "# Do you think your number is higher or lower than the computer's?: lower\n",
        "# Aww, that's incorrect. The computer's number was 1\n",
        "# Your score is now 2\n",
        "\n",
        "# Thanks for playing!"
      ]
    },
    {
      "cell_type": "markdown",
      "metadata": {
        "id": "Nj-ttXcEtQoY"
      },
      "source": [
        "Here are some milestones to guide you through the problem:\n",
        "\n"
      ]
    },
    {
      "cell_type": "code",
      "execution_count": 16,
      "metadata": {
        "colab": {
          "base_uri": "https://localhost:8080/"
        },
        "id": "ORU0A7OUtusI",
        "outputId": "1c754724-b6ad-43a7-d6a1-c878221f171b"
      },
      "outputs": [
        {
          "output_type": "stream",
          "name": "stdout",
          "text": [
            "Welcome to the High-Low Game!\n",
            "--------------------------------\n",
            "Round: 1\n",
            "Your number is 99\n",
            "Do you think your number is higher or lower than the computer's? : higher\n",
            "True\n",
            "Your were right!\n",
            "The computer's number is 84\n",
            "Your score is : 1\n",
            "--------------------------------\n",
            "Round: 2\n",
            "Your number is 20\n",
            "Do you think your number is higher or lower than the computer's? : lower\n",
            "True\n",
            "Your were right!\n",
            "The computer's number is 93\n",
            "Your score is : 2\n",
            "--------------------------------\n",
            "Round: 3\n",
            "Your number is 6\n",
            "Do you think your number is higher or lower than the computer's? : higher\n",
            "False\n",
            "Aww, that's incorrect.\n",
            "The computer's number is 24\n",
            "Your score is : 2\n",
            "--------------------------------\n",
            "Round: 4\n",
            "Your number is 83\n",
            "Do you think your number is higher or lower than the computer's? : lower\n",
            "False\n",
            "Aww, that's incorrect.\n",
            "The computer's number is 30\n",
            "Your score is : 2\n",
            "--------------------------------\n",
            "Round: 5\n",
            "Your number is 52\n",
            "Do you think your number is higher or lower than the computer's? : higher\n",
            "True\n",
            "Your were right!\n",
            "The computer's number is 41\n",
            "Your score is : 3\n",
            "\n",
            "Game Over!\n",
            "You won less than half the rounds\n",
            "Thanks for playing!\n"
          ]
        }
      ],
      "source": [
        "#Milestone #1: Generate the random number\n",
        "#Generate the random numbers for you and the computer. For now, print both of them out to help you test the logic in later milestones.\n",
        "\n",
        "import random\n",
        "\n",
        "NUM_ROUNDS = 5\n",
        "\n",
        "current_rounds= 0\n",
        "\n",
        "score = 0\n",
        "print(\"Welcome to the High-Low Game!\")\n",
        "\n",
        "while True:\n",
        "  current_rounds += 1\n",
        "  if current_rounds> NUM_ROUNDS:\n",
        "    break\n",
        "\n",
        "\n",
        "  # check rounds\n",
        "\n",
        "  print(\"--------------------------------\")\n",
        "  print(f\"Round: {current_rounds}\")\n",
        "\n",
        "\n",
        "\n",
        "  #generating and displaying random user_number and computer_number\n",
        "  user_number = random.randint(1 , 100)\n",
        "  computer_number  = random.randint(1 , 100)\n",
        "\n",
        "  print(f\"Your number is {user_number}\")\n",
        "  #Milestone #2: Get the user choice\n",
        "  #Get user input for their choice of whether they think their number is higher or lower than the computer's number.\n",
        "\n",
        "  while True:\n",
        "    high_low_choice = input(\"Do you think your number is higher or lower than the computer's? : \")\n",
        "    if high_low_choice.lower() in (\"higher\" , \"lower\"):\n",
        "      break\n",
        "    else:\n",
        "      print(\"Invalid choice! Please enter 'higher' or 'lower'.\")\n",
        "\n",
        "\n",
        "  is_user_high_than_computer : bool = True if user_number > computer_number else False\n",
        "  is_user_choice_correct : bool = True if (high_low_choice.lower() == \"higher\" and is_user_high_than_computer) or (high_low_choice.lower() == \"lower\" and not is_user_high_than_computer) else False\n",
        "\n",
        "  print(is_user_choice_correct)\n",
        "\n",
        "  if is_user_choice_correct == True:\n",
        "    score += 1\n",
        "    print(\"Your were right!\")\n",
        "  else:\n",
        "    print(\"Aww, that's incorrect.\")\n",
        "\n",
        "  print(f\"The computer's number is {computer_number}\")\n",
        "  print(\"Your score is :\" , score)\n",
        "\n",
        "\n",
        "\n",
        "print(\"\\nGame Over!\")\n",
        "\n",
        "if score >= 5:\n",
        "  print(\"Wow! You played perfectly!\")\n",
        "elif score >= 3:\n",
        "  print(\"You won less than half the rounds\")\n",
        "else:\n",
        "  print(\"Better luck next time!\")\n",
        "\n",
        "print(\"Thanks for playing!\")\n",
        "\n",
        "  #Milestone #3: Write the game logic\n",
        "  #Write code that maps out all the ways to win the round and prints out the results. When does the user win? How might we check for this? (Note: If you and the computer share the same number, the computer should win since your number wouldn't be higher nor lower.)\n",
        "\n",
        "\n",
        "#Milestone 4: Play multiple rounds\n",
        "\n",
        "\n",
        "#Milestone 5: Adding a points system\n"
      ]
    }
  ],
  "metadata": {
    "colab": {
      "provenance": [],
      "authorship_tag": "ABX9TyOmePfN3ciufxo/Er1xxhmE",
      "include_colab_link": true
    },
    "kernelspec": {
      "display_name": "Python 3",
      "name": "python3"
    },
    "language_info": {
      "name": "python"
    }
  },
  "nbformat": 4,
  "nbformat_minor": 0
}
