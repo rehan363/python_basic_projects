{
  "nbformat": 4,
  "nbformat_minor": 0,
  "metadata": {
    "colab": {
      "provenance": [],
      "authorship_tag": "ABX9TyNpDkd1Q1bqiSMc7G6EOnds",
      "include_colab_link": true
    },
    "kernelspec": {
      "name": "python3",
      "display_name": "Python 3"
    },
    "language_info": {
      "name": "python"
    }
  },
  "cells": [
    {
      "cell_type": "markdown",
      "metadata": {
        "id": "view-in-github",
        "colab_type": "text"
      },
      "source": [
        "<a href=\"https://colab.research.google.com/github/rehan363/python_projects/blob/main/project01(_Planetary_Weight_Calculator).ipynb\" target=\"_parent\"><img src=\"https://colab.research.google.com/assets/colab-badge.svg\" alt=\"Open In Colab\"/></a>"
      ]
    },
    {
      "cell_type": "markdown",
      "source": [
        "***Planetary Weight Download Project***"
      ],
      "metadata": {
        "id": "AGaNKikOA1iQ"
      }
    },
    {
      "cell_type": "markdown",
      "source": [
        "Problem: ***planetary Weight Calculator***\n",
        "\n",
        "Milestone #1: ***Mars Weight***\n",
        "\n",
        "A few years ago, NASA made history with the first controlled flight on another planet. Its latest Mars Rover, Perseverance, has onboard a 50cm high helicopter called Ingenuity. Ingenuity made its third flight, during which it flew faster and further than it had on any of its test flights on Earth. Interestingly, Ingenuity uses Python for some of its flight modeling software!\n",
        "\n",
        "Ingenuity on the surface of Mars (source: NASA)\n",
        "\n",
        "When programming Ingenuity, one of the things that NASA engineers need to account for is the fact that due to the weaker gravity on Mars, an Earthling's weight on Mars is 37.8% of their weight on Earth. Write a Python program that prompts an Earthling to enter their weight on Earth and prints their calculated weight on Mars.\n",
        "\n",
        "The output should be rounded to two decimal places when necessary. Python has a round function which can help you with this. You pass in the value to be rounded and the number of decimal places to use. In the example below, the number 3.1415926 is rounded to 2 decimal places which is 3.14.\n",
        "\n",
        "x = 3.1415926\n",
        "rounded_x = round(x, 2) # rounds x to 2 decimal places\n",
        "print(rounded_x)\n",
        "\n",
        "# This would print out out 3.14\n",
        "\n",
        "x = 2.71828\n",
        "rounded_x = round(x, 4)\n",
        "print(rounded_x)\n",
        "\n",
        "# This would print out 2.7183\n",
        "\n",
        "x = 3\n",
        "rounded_x = round(x, 4)\n",
        "print(rounded_x)\n",
        "\n",
        "# This would print 3\n",
        "# Note that the round function does not add on decimal places that are not there already\n",
        "\n",
        "Sample Run\n",
        "\n",
        "$ python marsweight.py\n",
        "\n",
        "Enter a weight on Earth: 120\n",
        "\n",
        "The equivalent on Mars: 45.36\n",
        "\n",
        "Sample Run\n",
        "\n",
        "$ python marsweight.py\n",
        "\n",
        "Enter a weight on Earth: 186\n",
        "\n",
        "The equivalent on Mars: 70.31\n",
        "\n",
        "\n",
        "Milestone #2: ***Adding in All Planets***\n",
        "\n",
        "Mars is not the only planet in our solar system with its own unique gravity. In fact, each planet has a different gravitational constant, which affects how much an object would weigh on that planet. Below is a list of the constants for each planet compared to Earth's gravity:\n",
        "\n",
        "Mercury: 37.6%\n",
        "\n",
        "Venus: 88.9%\n",
        "\n",
        "Mars: 37.8%\n",
        "\n",
        "Jupiter: 236.0%\n",
        "\n",
        "Saturn: 108.1%\n",
        "\n",
        "Uranus: 81.5%\n",
        "\n",
        "Neptune: 114.0%\n",
        "\n",
        "Write a Python program that prompts an Earthling to enter their weight on Earth and then to enter the name of a planet in our solar system. The program should print the equivalent weight on that planet rounded to 2 decimal places if necessary.\n",
        "\n",
        "You can assume that the user will always type in a planet with the first letter capitalized and you do not need to worry about the case where they type in something other than one of the above planets.\n",
        "\n",
        "Sample Run\n",
        "\n",
        "$ python planetaryweight.py\n",
        "\n",
        "Enter a weight on Earth: 120\n",
        "\n",
        "Enter a planet: Mars\n",
        "\n",
        "The equivalent weight on Mars: 45.36\n",
        "\n",
        "Sample Run\n",
        "\n",
        "$ python planetaryweight.py\n",
        "\n",
        "Enter a weight on Earth: 150\n",
        "\n",
        "Enter a planet: Jupiter\n",
        "\n",
        "The equivalent weight on Jupiter: 354.0\n",
        "Useful Syntax\n",
        "\n",
        "Python has an if statement! This if statement passes if the value of x is the same as the value of y. x and y can be literal numbers, strings, variables, or constants.\n",
        "\n",
        "x = 42 y = 42\n",
        "\n",
        "if x == y: print(\"x and y are equal!\")"
      ],
      "metadata": {
        "id": "w_ZwmEjwF_8-"
      }
    },
    {
      "cell_type": "code",
      "execution_count": 51,
      "metadata": {
        "id": "ar_xYjHk-g57"
      },
      "outputs": [],
      "source": [
        "\"\"\"\n",
        "Prompts the user for a weight on Earth\n",
        "and a planet (in separate inputs). Then\n",
        "prints the equivalent weight on that planet.\n",
        "\n",
        "Note that the user should type in a planet with\n",
        "the first letter as uppercase, and you do not need\n",
        "to handle the case where a user types in something\n",
        "other than one of the planets (that is not Earth).\n",
        "\"\"\"\n",
        "\n"
      ]
    },
    {
      "cell_type": "code",
      "source": [
        "MARS_CONSTANT = 0.378\n",
        "def get_mars_weight():\n",
        "  # Milestone.1 get user weight\n",
        "\n",
        "  user_weight = float(input(\"what is your weight on earth? \"))\n",
        "\n",
        "  #.2 find user weight on mars\n",
        "\n",
        "  user_weight_on_mars = round((user_weight * MARS_CONSTANT),2)        # round function to get values up to 2 decimal places\n",
        "\n",
        "  return f\"your weight on mars is: {user_weight_on_mars}\""
      ],
      "metadata": {
        "id": "n6xGHZwJA6z9"
      },
      "execution_count": 52,
      "outputs": []
    },
    {
      "cell_type": "code",
      "source": [
        "my_weight_on_mars = get_mars_weight()\n",
        "print(my_weight_on_mars)"
      ],
      "metadata": {
        "colab": {
          "base_uri": "https://localhost:8080/"
        },
        "id": "C12AeHKaEy30",
        "outputId": "45e9fcd9-0dc0-4561-a809-5915e67e6039"
      },
      "execution_count": 53,
      "outputs": [
        {
          "output_type": "stream",
          "name": "stdout",
          "text": [
            "what is your weight on earth? 4\n",
            "your weight on mars is: 1.51\n"
          ]
        }
      ]
    },
    {
      "cell_type": "markdown",
      "source": [
        "Milestone #2: ***Adding in All Planets***"
      ],
      "metadata": {
        "id": "mN3wMWz1HxZu"
      }
    },
    {
      "cell_type": "code",
      "source": [
        "#Constants\n",
        "gravity_constant = {\n",
        "    \"mars\": 0.378,\n",
        "    \"venus\": 0.907,\n",
        "    \"mercury\": 37.6,\n",
        "    \"jupiter\": 236.0,\n",
        "    \"saturn\": 108.1,\n",
        "    \"uranus\": 81.5,\n",
        "    \"neptune\": 114.0\n",
        "\n",
        "\n",
        "}\n",
        "\n",
        "#Calculating weight\n",
        "def calculate_weight_on_plannet(user_weight , plannet):\n",
        "  #convert plannets in to lower case\n",
        "  plannet = plannet.lower()\n",
        "  #checking user input\n",
        "  if plannet in gravity_constant:\n",
        "    weight_on_plannet = user_weight * gravity_constant[plannet]\n",
        "    return f'your weight on {plannet} is {weight_on_plannet}'\n",
        "  else:\n",
        "    print(\"Invalid plannet!\")\n",
        "\n",
        "# main program\n",
        "def main():\n",
        "  while True:\n",
        "    try:\n",
        "      user_weight = float(input(\"what is your weight on earth?\"))\n",
        "      break\n",
        "    except ValueError:\n",
        "      print(\"Weight must be in numbers!\")\n",
        "\n",
        "  plannet  = str(input(\"on which plannet you want to calculate your weight?\"))\n",
        "  print(calculate_weight_on_plannet(user_weight , plannet))\n",
        "\n",
        "\n",
        "\n",
        "\n"
      ],
      "metadata": {
        "id": "n05h-sMpLJAf"
      },
      "execution_count": 45,
      "outputs": []
    },
    {
      "cell_type": "code",
      "source": [
        "# Run the program\n",
        "main()\n"
      ],
      "metadata": {
        "colab": {
          "base_uri": "https://localhost:8080/"
        },
        "id": "dLo54zwLJjE5",
        "outputId": "f9aec809-ead7-4639-c4bf-55a42982571b"
      },
      "execution_count": 48,
      "outputs": [
        {
          "output_type": "stream",
          "name": "stdout",
          "text": [
            "what is your weight on earth?2\n",
            "on which plannet you want to calculate your weight?Mars\n",
            "your weight on mars is 0.756\n"
          ]
        }
      ]
    }
  ]
}