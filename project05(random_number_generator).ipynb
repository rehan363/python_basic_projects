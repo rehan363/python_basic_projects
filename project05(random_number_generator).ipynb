{
  "nbformat": 4,
  "nbformat_minor": 0,
  "metadata": {
    "colab": {
      "provenance": [],
      "authorship_tag": "ABX9TyN9UKrBfvu7Wp5LO/xEhSUq",
      "include_colab_link": true
    },
    "kernelspec": {
      "name": "python3",
      "display_name": "Python 3"
    },
    "language_info": {
      "name": "python"
    }
  },
  "cells": [
    {
      "cell_type": "markdown",
      "metadata": {
        "id": "view-in-github",
        "colab_type": "text"
      },
      "source": [
        "<a href=\"https://colab.research.google.com/github/rehan363/python_basic_projects/blob/main/project05(random_number_generator).ipynb\" target=\"_parent\"><img src=\"https://colab.research.google.com/assets/colab-badge.svg\" alt=\"Open In Colab\"/></a>"
      ]
    },
    {
      "cell_type": "markdown",
      "source": [
        "**PROJECT.4**\n",
        "\n",
        "* ***RANDOM NUMBER GENERATOR.***"
      ],
      "metadata": {
        "id": "ZkiGpIu8rfvv"
      }
    },
    {
      "cell_type": "markdown",
      "source": [
        "Print 10 random numbers in the range 1 to 100.\n",
        "\n",
        "Here is an example run:\n",
        "\n",
        "45 79 61 47 52 10 16 83 19 12\n",
        "\n",
        "Each time you run your program you should get different numbers\n",
        "\n",
        "81 76 70 1 27 63 96 100 32 92\n",
        "\n",
        "Recall that the python random library has a function randint which returns an integer in the range set by the parameters (inclusive). For example this call would produce a random integer between 1 and 6, which could include 1 and could include 6:\n",
        "\n",
        "value = random.randint(1, 6)"
      ],
      "metadata": {
        "id": "NmV0Ii_8rKuJ"
      }
    },
    {
      "cell_type": "code",
      "source": [
        "import random\n",
        "\n",
        "#Print(random.randint(1,100))\n",
        "\n",
        "MIN_NUM: int = 1\n",
        "MAX_NUM: int = 100\n",
        "N_RANDOM_NUMBER: int = 10\n",
        "\n",
        "# function\n",
        "#1. use for loop\n",
        "\n",
        "number_list: list[int] = []\n",
        "for i in range(N_RANDOM_NUMBER):\n",
        "  number_list.append(random.randint(MIN_NUM, MAX_NUM))\n",
        "\n",
        "\n",
        "\n"
      ],
      "metadata": {
        "id": "CAz1dgoirlga"
      },
      "execution_count": null,
      "outputs": []
    },
    {
      "cell_type": "code",
      "source": [
        "print(*number_list)                     # *is used to remove list syntax"
      ],
      "metadata": {
        "id": "-BL7Z9_orpH5"
      },
      "execution_count": null,
      "outputs": []
    },
    {
      "cell_type": "markdown",
      "source": [
        "**same above project in one line  with numpy(numerical python.)**"
      ],
      "metadata": {
        "id": "vB5d-GMCrtbR"
      }
    },
    {
      "cell_type": "code",
      "source": [
        "import numpy as np\n",
        "\n",
        "MIN_NUM: int = 1\n",
        "MAX_NUM: int = 100\n",
        "N_RANDOM_NUMBER: int = 10\n",
        "\n",
        "number_list = np.random.randint(MIN_NUM, MAX_NUM, N_RANDOM_NUMBER)\n",
        "\n",
        "print(*number_list)\n",
        "\n"
      ],
      "metadata": {
        "id": "4LYko4PvrvTJ"
      },
      "execution_count": null,
      "outputs": []
    }
  ]
}