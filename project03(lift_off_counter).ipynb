{
  "nbformat": 4,
  "nbformat_minor": 0,
  "metadata": {
    "colab": {
      "provenance": [],
      "authorship_tag": "ABX9TyOrILvkZk/Mg+IacP5LvQj2",
      "include_colab_link": true
    },
    "kernelspec": {
      "name": "python3",
      "display_name": "Python 3"
    },
    "language_info": {
      "name": "python"
    }
  },
  "cells": [
    {
      "cell_type": "markdown",
      "metadata": {
        "id": "view-in-github",
        "colab_type": "text"
      },
      "source": [
        "<a href=\"https://colab.research.google.com/github/rehan363/python_basic_projects/blob/main/project03(lift_off_counter).ipynb\" target=\"_parent\"><img src=\"https://colab.research.google.com/assets/colab-badge.svg\" alt=\"Open In Colab\"/></a>"
      ]
    },
    {
      "cell_type": "code",
      "execution_count": null,
      "metadata": {
        "id": "CwZwiMgCpZBf"
      },
      "outputs": [],
      "source": [
        "PROJECT.3\n",
        "\n",
        "LIFT OFF COUNTER"
      ]
    },
    {
      "cell_type": "markdown",
      "source": [
        "Write a program that prints out the calls for a spaceship that is about to launch. Countdown from 10 to 1 and then output Liftoff!\n",
        "\n",
        "Here's a sample run of the program:\n",
        "\n",
        "10 9 8 7 6 5 4 3 2 1 Liftoff!\n",
        "\n",
        "There are many ways to solve this problem. One approach is to use a for loop, and to use the for loop variable i. Recall that i will keep track of how many times the for loop has completed executing its body. As an example this code:\n",
        "\n",
        "for i in range(10): print(i)\n",
        "\n",
        "Will print out the values 0, 1, 2, 3, 4, 5, 6, 7, 8, 9. The values printed in liftoff are 10 minus the number of times the for loop has completed."
      ],
      "metadata": {
        "id": "yLlx9SCZpmel"
      }
    },
    {
      "cell_type": "code",
      "source": [
        "# LOOP OR RANGE FUNCTION\n",
        "\n",
        "def counter ():\n",
        "  for i in range (10, 0 , -1):\n",
        "    print(i , end=\" \")\n",
        "\n",
        "\n",
        "  print(\"Lift Off! \")\n",
        "\n",
        "counter()\n",
        "\n",
        "# 2nd methood\n",
        "\n",
        "# by list and for loop methood\n",
        "\n",
        "number_list: list[int] = [10,9,8,7,6,5,4,3,2,1]\n",
        "\n",
        "for i in number_list:\n",
        "  print(i, end=\" \")\n",
        "\n",
        "print(\"Lift Off! \")"
      ],
      "metadata": {
        "id": "dLTQf7srpr7h"
      },
      "execution_count": null,
      "outputs": []
    }
  ]
}