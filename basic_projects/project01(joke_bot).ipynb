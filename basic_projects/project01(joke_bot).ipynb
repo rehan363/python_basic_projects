{
  "nbformat": 4,
  "nbformat_minor": 0,
  "metadata": {
    "colab": {
      "provenance": [],
      "authorship_tag": "ABX9TyOKZSHXQ4RkT2S73kn9mSsB",
      "include_colab_link": true
    },
    "kernelspec": {
      "name": "python3",
      "display_name": "Python 3"
    },
    "language_info": {
      "name": "python"
    }
  },
  "cells": [
    {
      "cell_type": "markdown",
      "metadata": {
        "id": "view-in-github",
        "colab_type": "text"
      },
      "source": [
        "<a href=\"https://colab.research.google.com/github/rehan363/python_basic_projects/blob/main/project01(joke_bot).ipynb\" target=\"_parent\"><img src=\"https://colab.research.google.com/assets/colab-badge.svg\" alt=\"Open In Colab\"/></a>"
      ]
    },
    {
      "cell_type": "markdown",
      "source": [
        "PROJECT.1\n",
        "\n",
        "Joke bot"
      ],
      "metadata": {
        "id": "40HAWHdXjJvk"
      }
    },
    {
      "cell_type": "markdown",
      "source": [
        "Write a simple joke bot. The bot starts by asking the user what they want. However, your program will only respond to one response: Joke.\n",
        "\n",
        "If the user enters Joke then we will print out a single joke. Each time the joke is always the same:\n",
        "\n",
        "Here is a joke for you! Panaversity GPT - Sophia is heading out to the grocery store. A programmer tells her: get a liter of milk, and if they have eggs, get 12. Sophia returns with 13 liters of milk. The programmer asks why and Sophia replies: 'because they had eggs'\n",
        "\n",
        "If the user enters anything else we print out:\n",
        "\n",
        "Sorry I only tell jokes\n",
        "\n",
        "You should use the three constants:\n",
        "\n",
        "PROMPT JOKE SORRY\n",
        "\n",
        "which contain the strings for the prompt asked to the user, the joke to print out if the user enters Joke and the sorry message if the user enters anything else.\n",
        "\n",
        "Your program will need to use an if statement which checks if the user input is Joke:\n",
        "\n",
        "if user_input == \"Joke\":\n",
        "\n",
        "Recall that == is a comparison which tests if two values are equal to one another.\n",
        "\n",
        "Here is a full run of the program (user input is in blue):\n",
        "\n",
        "What do you want? Joke Here is a joke for you! Panaversity GPT - Sophia is heading out to the grocery store. A programmer tells her: get a liter of milk, and if they have eggs, get 12. Sophia returns with 13 liters of milk. The programmer asks why and Sophia replies: 'because they had eggs'"
      ],
      "metadata": {
        "id": "_PdSqUdvjPkD"
      }
    },
    {
      "cell_type": "code",
      "source": [
        "# constants\n",
        "prompt: str = \"what do you want ?\"\n",
        "Joke: str = \"Panaversity GPT - Sophia is heading out to the grocery store.\"\n",
        "\n",
        "#define a function\n",
        "\n",
        "def joke_bot():\n",
        "\n",
        "  # 1. Get user input\n",
        "\n",
        "  user_input : str = input(prompt)\n",
        "  print(user_input)\n",
        "\n",
        "  # 2. if else statments\n",
        "\n",
        "  if user_input.lower() == \"joke\":\n",
        "    print(Joke)\n",
        "\n",
        "  else :\n",
        "    print(\"Sorry i only give jokes!\")\n",
        "\n",
        "\n",
        "joke_bot()"
      ],
      "metadata": {
        "id": "Cb_sZfSfjXXt"
      },
      "execution_count": null,
      "outputs": []
    }
  ]
}
