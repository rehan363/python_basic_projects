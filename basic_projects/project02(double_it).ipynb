{
  "nbformat": 4,
  "nbformat_minor": 0,
  "metadata": {
    "colab": {
      "provenance": [],
      "authorship_tag": "ABX9TyPNtZ52ylVhAaHNYgiOK5pj",
      "include_colab_link": true
    },
    "kernelspec": {
      "name": "python3",
      "display_name": "Python 3"
    },
    "language_info": {
      "name": "python"
    }
  },
  "cells": [
    {
      "cell_type": "markdown",
      "metadata": {
        "id": "view-in-github",
        "colab_type": "text"
      },
      "source": [
        "<a href=\"https://colab.research.google.com/github/rehan363/python_basic_projects/blob/main/project02(double_it).ipynb\" target=\"_parent\"><img src=\"https://colab.research.google.com/assets/colab-badge.svg\" alt=\"Open In Colab\"/></a>"
      ]
    },
    {
      "cell_type": "markdown",
      "source": [
        "PROJECT.2\n",
        "\n",
        "Double it"
      ],
      "metadata": {
        "id": "Vr5UP31RonhT"
      }
    },
    {
      "cell_type": "markdown",
      "source": [
        "Write a program that asks a user to enter a number. Your program will then double that number and print out the result. It will repeat that process until the value is 100 or greater.\n",
        "\n",
        "For example if the user enters the number 2 you would then print:\n",
        "\n",
        "4 8 16 32 64 128\n",
        "\n",
        "Note that:\n",
        "\n",
        "2 doubled is 4\n",
        "\n",
        "4 doubled is 8\n",
        "\n",
        "8 doubled is 16\n",
        "\n",
        "and so on.\n",
        "\n",
        "We stop at 128 because that value is greater than 100.\n",
        "\n",
        "Maintain the current number in a variable named curr_value. When you double the number, you should be updating curr_value. Recall that you can double the value of curr_value using a line like:\n",
        "\n",
        "curr_value = curr_value * 2\n",
        "\n",
        "This program should have a while loop and the while loop condition should test if curr_value is less than 100. Thus, your program will have the line:\n",
        "\n",
        "while curr_value < 100:"
      ],
      "metadata": {
        "id": "loflLI82o3ui"
      }
    },
    {
      "cell_type": "code",
      "source": [
        "def double_it():\n",
        "  user_input = int(input(\"enter a number : \"))\n",
        "  #print(type(user_input))\n",
        "\n",
        "\n",
        "  # loop (while)\n",
        "\n",
        "  while user_input <=100:\n",
        "    user_input = user_input *2\n",
        "\n",
        "    print(user_input, end=\" \")\n",
        "\n",
        "double_it()\n"
      ],
      "metadata": {
        "id": "eEyA2r_Zo8Qr"
      },
      "execution_count": null,
      "outputs": []
    }
  ]
}
