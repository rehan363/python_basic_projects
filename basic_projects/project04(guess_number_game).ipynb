{
  "nbformat": 4,
  "nbformat_minor": 0,
  "metadata": {
    "colab": {
      "provenance": [],
      "authorship_tag": "ABX9TyM0AMPm87tCM9Aj6qQ0rXq6",
      "include_colab_link": true
    },
    "kernelspec": {
      "name": "python3",
      "display_name": "Python 3"
    },
    "language_info": {
      "name": "python"
    }
  },
  "cells": [
    {
      "cell_type": "markdown",
      "metadata": {
        "id": "view-in-github",
        "colab_type": "text"
      },
      "source": [
        "<a href=\"https://colab.research.google.com/github/rehan363/python_basic_projects/blob/main/project04(guess_number_game).ipynb\" target=\"_parent\"><img src=\"https://colab.research.google.com/assets/colab-badge.svg\" alt=\"Open In Colab\"/></a>"
      ]
    },
    {
      "cell_type": "markdown",
      "source": [
        "PROJECT.4\n",
        "\n",
        "GUESS NUMBER GAME"
      ],
      "metadata": {
        "id": "EZLAwUQVqO3D"
      }
    },
    {
      "cell_type": "markdown",
      "source": [
        "Guess My Number\n",
        "\n",
        "I am thinking of a number between 0 and 99... Enter a guess: 50 Your guess is too high\n",
        "\n",
        "Enter a new number: 25 Your guess is too low\n",
        "\n",
        "Enter a new number: 40 Your guess is too low\n",
        "\n",
        "Enter a new number: 45 Your guess is too low\n",
        "\n",
        "Enter a new number: 48 Congrats! The number was: 48\n",
        "\n",
        "Starter Code"
      ],
      "metadata": {
        "id": "f9nHI1DhqUaK"
      }
    },
    {
      "cell_type": "code",
      "source": [
        "#  let Computer generate and save a  random number using random,\n",
        "\n",
        "import random\n",
        "\n",
        "random_number :int = random.randint(0, 9)\n",
        "print(random_number)\n",
        "\n",
        "# 2.while loop\n",
        "\n",
        "allowed_attempts : int = 5\n",
        "user_attempts : int = 0\n",
        "\n",
        "while user_attempts  < allowed_attempts:\n",
        "\n",
        "  print(f\"Attempts left = {allowed_attempts - user_attempts}\")\n",
        "  #3. user input\n",
        "\n",
        "  user_input = int(input(\"Guess My Number : \"))\n",
        "  user_attempts += 1\n",
        "\n",
        "\n",
        "  #4.if statment\n",
        "  if random_number == user_input:\n",
        "    print(\"Congrats! The number was : \", random_number)\n",
        "    break\n",
        "  elif random_number < user_input:\n",
        "    print(\"too low\")\n",
        "  elif random_number > user_input:\n",
        "    print(\"too high\")\n",
        "\n",
        "if user_attempts == allowed_attempts:\n",
        "  print(\"you lost \\n game over9\")\n"
      ],
      "metadata": {
        "id": "fx-W__otqXeK"
      },
      "execution_count": null,
      "outputs": []
    }
  ]
}
